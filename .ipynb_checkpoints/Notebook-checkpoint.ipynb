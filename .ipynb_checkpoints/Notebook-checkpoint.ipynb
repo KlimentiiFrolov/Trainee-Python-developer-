{
 "cells": [
  {
   "cell_type": "code",
   "execution_count": 4,
   "id": "7ed6308d",
   "metadata": {},
   "outputs": [],
   "source": [
    "import json\n",
    "import pandas as pd\n",
    "import matplotlib.pyplot as plt"
   ]
  },
  {
   "cell_type": "code",
   "execution_count": 5,
   "id": "1060f27f",
   "metadata": {},
   "outputs": [],
   "source": [
    "class BoxPlotGenerator:\n",
    "    #safe folder\n",
    "    def __init__(self, output_folder=\"plots\"): \n",
    "        self.output_folder = output_folder\n",
    "        \n",
    "    #Graphing function   \n",
    "    def generate_boxplot(self, file_path, title=\"Comparison of distributions  results\"):\n",
    "        \n",
    "        with open(file_path) as f:\n",
    "            templates = json.load(f)\n",
    "        df = pd.DataFrame.from_records(templates) # 'json' to 'dataframe'\n",
    "        \n",
    "        columns = [col for col in df.columns if col not in ['rb_corners', 'gt_corners'] \n",
    "                   and df[col].dtype in [int, float]] #all columns with out 2 and all to int/float\n",
    "        \n",
    "        plt.figure(figsize=(12, 6))  #build boxplot\n",
    "        plt.boxplot(df[columns], labels=columns, vert=False)\n",
    "        plt.title(title)\n",
    "        plt.xlabel(\"Result\")\n",
    "\n",
    "        # save plot\n",
    "        plt.savefig(f\"{self.output_folder}/{title}.png\")\n",
    "        plt.close()"
   ]
  },
  {
   "cell_type": "code",
   "execution_count": 6,
   "id": "0556e51f",
   "metadata": {},
   "outputs": [],
   "source": [
    "#example\n",
    "generator = BoxPlotGenerator()\n",
    "generator.generate_boxplot(\"deviation.json\")"
   ]
  },
  {
   "cell_type": "code",
   "execution_count": null,
   "id": "06199c21",
   "metadata": {},
   "outputs": [],
   "source": []
  },
  {
   "cell_type": "code",
   "execution_count": null,
   "id": "bd5ea830",
   "metadata": {},
   "outputs": [],
   "source": []
  },
  {
   "cell_type": "code",
   "execution_count": null,
   "id": "cc54d077",
   "metadata": {},
   "outputs": [],
   "source": []
  },
  {
   "cell_type": "code",
   "execution_count": null,
   "id": "dd29ed60",
   "metadata": {},
   "outputs": [],
   "source": []
  },
  {
   "cell_type": "code",
   "execution_count": null,
   "id": "896188f6",
   "metadata": {},
   "outputs": [],
   "source": []
  },
  {
   "cell_type": "code",
   "execution_count": null,
   "id": "f6763577",
   "metadata": {},
   "outputs": [],
   "source": []
  }
 ],
 "metadata": {
  "kernelspec": {
   "display_name": "env3.9",
   "language": "python",
   "name": "env3.9"
  },
  "language_info": {
   "codemirror_mode": {
    "name": "ipython",
    "version": 3
   },
   "file_extension": ".py",
   "mimetype": "text/x-python",
   "name": "python",
   "nbconvert_exporter": "python",
   "pygments_lexer": "ipython3",
   "version": "3.9.19"
  }
 },
 "nbformat": 4,
 "nbformat_minor": 5
}
